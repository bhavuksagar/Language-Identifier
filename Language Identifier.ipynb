{
 "cells": [
  {
   "cell_type": "markdown",
   "metadata": {},
   "source": [
    "# WiLI-2018, the Wikipedia language identification benchmark dataset, contains 235000 paragraphs of 235 languages.\n",
    "Each language in this dataset contains 1000 rows/paragraphs.\n",
    "\n",
    "After data selection and preprocessing I used the 22 selective languages from the original dataset Which Includes following Languages\n",
    "\n",
    "⦁ English\n",
    "⦁ Arabic\n",
    "⦁ French\n",
    "⦁ Hindi\n",
    "⦁ Urdu\n",
    "⦁ Portuguese\n",
    "⦁ Persian\n",
    "⦁ Pushto\n",
    "⦁ Spanish\n",
    "⦁ Korean\n",
    "⦁ Tamil\n",
    "⦁ Turkish\n",
    "⦁ Estonian\n",
    "⦁ Russian\n",
    "⦁ Romanian\n",
    "⦁ Chinese\n",
    "⦁ Swedish\n",
    "⦁ Latin\n",
    "⦁ German\n",
    "⦁ Dutch\n",
    "⦁ Japanese\n",
    "⦁ Thai"
   ]
  },
  {
   "cell_type": "code",
   "execution_count": 19,
   "metadata": {},
   "outputs": [],
   "source": [
    "import pandas as pd\n",
    "from sklearn.feature_extraction.text import CountVectorizer\n",
    "from sklearn.model_selection import train_test_split\n",
    "import numpy as np\n",
    "from sklearn.ensemble import RandomForestClassifier\n",
    "from sklearn.svm import SVC\n",
    "from keras.models import Sequential\n",
    "from keras.layers import Dense\n",
    "import pickle\n",
    "from sklearn.naive_bayes import MultinomialNB"
   ]
  },
  {
   "cell_type": "code",
   "execution_count": 2,
   "metadata": {},
   "outputs": [],
   "source": [
    "data= pd.read_csv(\"dataset.csv\")"
   ]
  },
  {
   "cell_type": "code",
   "execution_count": 32,
   "metadata": {},
   "outputs": [
    {
     "data": {
      "text/plain": [
       "(0     klement gottwaldi surnukeha palsameeriti ning ...\n",
       " 1     sebes joseph pereira thomas  på eng the jesuit...\n",
       " 2     ถนนเจริญกรุง อักษรโรมัน thanon charoen krung เ...\n",
       " 3     விசாகப்பட்டினம் தமிழ்ச்சங்கத்தை இந்துப் பத்திர...\n",
       " 4     de spons behoort tot het geslacht haliclona en...\n",
       " 5     エノが行きがかりでバスに乗ってしまい、気分が悪くなった際に助けるが、今すぐバスを降りたいと運...\n",
       " 6     tsutinalar i̇ngilizce tsuutina kanadada albert...\n",
       " 7     müller mox figura centralis circulorum doctoru...\n",
       " 8     برقی بار electric charge تمام زیرجوہری ذرات کی...\n",
       " 9     シャーリー・フィールドは、サン・ベルナルド・アベニュー沿い市民センターとrtマーティン高校に...\n",
       " 10    kemunculan pertamanya adalah ketika mencium ka...\n",
       " 11    barocco pt escândalo de ª página é um filme fr...\n",
       " 12    association de recherche et de sauvegarde de l...\n",
       " 13    胡赛尼本人和小说的主人公阿米尔一样，都是出生在阿富汗首都喀布尔，少年时代便离开了这个国家。胡...\n",
       " 14    한국에서 성씨가 사용되기 시작한 정확한 시기는 알 수 없으나 한자漢字 등 중국 문물...\n",
       " 15    การฟาดฟันของบรรดาสาวงามในกองประกวด miss beauty...\n",
       " 16    dorota rabczewska artistinimega doda sündinud ...\n",
       " 17    diante destes gerenciamentos podendo ser feito...\n",
       " 18    besemer s van der geest v murray j bijleveld c...\n",
       " 19    महाराष्ट्र  मई  को भारत का राज्य बनाया गया था।...\n",
       " Name: Text, dtype: object, 0       Estonian\n",
       " 1        Swedish\n",
       " 2           Thai\n",
       " 3          Tamil\n",
       " 4          Dutch\n",
       " 5       Japanese\n",
       " 6        Turkish\n",
       " 7          Latin\n",
       " 8           Urdu\n",
       " 9       Japanese\n",
       " 10    Indonesian\n",
       " 11     Portugese\n",
       " 12        French\n",
       " 13       Chinese\n",
       " 14        Korean\n",
       " 15          Thai\n",
       " 16      Estonian\n",
       " 17     Portugese\n",
       " 18     Portugese\n",
       " 19         Hindi\n",
       " Name: language, dtype: object)"
      ]
     },
     "execution_count": 32,
     "metadata": {},
     "output_type": "execute_result"
    }
   ],
   "source": [
    "data.Text.head(20),data.language.head(20)"
   ]
  },
  {
   "cell_type": "code",
   "execution_count": 33,
   "metadata": {},
   "outputs": [
    {
     "data": {
      "text/plain": [
       "(22000, 2)"
      ]
     },
     "execution_count": 33,
     "metadata": {},
     "output_type": "execute_result"
    }
   ],
   "source": [
    "data.shape"
   ]
  },
  {
   "cell_type": "code",
   "execution_count": 4,
   "metadata": {},
   "outputs": [],
   "source": [
    "x=data.Text\n",
    "y=data.language"
   ]
  },
  {
   "cell_type": "code",
   "execution_count": 5,
   "metadata": {},
   "outputs": [],
   "source": [
    "x_train,x_test,y_train,y_test=train_test_split(x,y,random_state=0)"
   ]
  },
  {
   "cell_type": "code",
   "execution_count": 6,
   "metadata": {},
   "outputs": [
    {
     "data": {
      "text/plain": [
       "((16500,), (5500,))"
      ]
     },
     "execution_count": 6,
     "metadata": {},
     "output_type": "execute_result"
    }
   ],
   "source": [
    "x_train.shape, x_test.shape"
   ]
  },
  {
   "cell_type": "code",
   "execution_count": 7,
   "metadata": {},
   "outputs": [],
   "source": [
    "cv= CountVectorizer()\n",
    "x_train_cv= cv.fit_transform(x_train)\n",
    "x_test_cv= cv.transform(x_test)"
   ]
  },
  {
   "cell_type": "code",
   "execution_count": 8,
   "metadata": {},
   "outputs": [
    {
     "name": "stderr",
     "output_type": "stream",
     "text": [
      "/Users/sahilsagar/opt/anaconda3/lib/python3.7/site-packages/sklearn/ensemble/forest.py:245: FutureWarning: The default value of n_estimators will change from 10 in version 0.20 to 100 in 0.22.\n",
      "  \"10 in version 0.20 to 100 in 0.22.\", FutureWarning)\n"
     ]
    },
    {
     "data": {
      "text/plain": [
       "RandomForestClassifier(bootstrap=True, class_weight=None, criterion='gini',\n",
       "                       max_depth=None, max_features='auto', max_leaf_nodes=None,\n",
       "                       min_impurity_decrease=0.0, min_impurity_split=None,\n",
       "                       min_samples_leaf=1, min_samples_split=2,\n",
       "                       min_weight_fraction_leaf=0.0, n_estimators=10,\n",
       "                       n_jobs=None, oob_score=False, random_state=None,\n",
       "                       verbose=0, warm_start=False)"
      ]
     },
     "execution_count": 8,
     "metadata": {},
     "output_type": "execute_result"
    }
   ],
   "source": [
    "rf=RandomForestClassifier()\n",
    "rf.fit(x_train_cv,y_train)"
   ]
  },
  {
   "cell_type": "code",
   "execution_count": 9,
   "metadata": {},
   "outputs": [
    {
     "data": {
      "text/plain": [
       "0.9130909090909091"
      ]
     },
     "execution_count": 9,
     "metadata": {},
     "output_type": "execute_result"
    }
   ],
   "source": [
    "rf.score(x_test_cv,y_test)"
   ]
  },
  {
   "cell_type": "code",
   "execution_count": 10,
   "metadata": {},
   "outputs": [
    {
     "data": {
      "text/plain": [
       "SVC(C=1.0, cache_size=200, class_weight=None, coef0=0.0,\n",
       "    decision_function_shape='ovr', degree=3, gamma='auto_deprecated',\n",
       "    kernel='linear', max_iter=-1, probability=False, random_state=None,\n",
       "    shrinking=True, tol=0.001, verbose=False)"
      ]
     },
     "execution_count": 10,
     "metadata": {},
     "output_type": "execute_result"
    }
   ],
   "source": [
    "sv=SVC(kernel='linear')\n",
    "sv.fit(x_train_cv,y_train)"
   ]
  },
  {
   "cell_type": "code",
   "execution_count": 11,
   "metadata": {},
   "outputs": [
    {
     "data": {
      "text/plain": [
       "0.9398181818181818"
      ]
     },
     "execution_count": 11,
     "metadata": {},
     "output_type": "execute_result"
    }
   ],
   "source": [
    "sv.score(x_test_cv,y_test)"
   ]
  },
  {
   "cell_type": "code",
   "execution_count": 21,
   "metadata": {},
   "outputs": [
    {
     "data": {
      "text/plain": [
       "MultinomialNB(alpha=1.0, class_prior=None, fit_prior=True)"
      ]
     },
     "execution_count": 21,
     "metadata": {},
     "output_type": "execute_result"
    }
   ],
   "source": [
    "nv=MultinomialNB()\n",
    "nv.fit(x_train_cv,y_train)"
   ]
  },
  {
   "cell_type": "code",
   "execution_count": 22,
   "metadata": {},
   "outputs": [
    {
     "data": {
      "text/plain": [
       "0.9538181818181818"
      ]
     },
     "execution_count": 22,
     "metadata": {},
     "output_type": "execute_result"
    }
   ],
   "source": [
    "nv.score(x_test_cv,y_test)"
   ]
  },
  {
   "cell_type": "code",
   "execution_count": 23,
   "metadata": {},
   "outputs": [],
   "source": [
    "pickle.dump([cv,nv],open(\"model\",'wb'))"
   ]
  },
  {
   "cell_type": "code",
   "execution_count": 24,
   "metadata": {},
   "outputs": [],
   "source": [
    "aa=pickle.load(open('model','rb'))"
   ]
  },
  {
   "cell_type": "code",
   "execution_count": 25,
   "metadata": {},
   "outputs": [
    {
     "name": "stdout",
     "output_type": "stream",
     "text": [
      "Enter minmum 20 words in any language:द्वारा विकसित एक मुफ्त बहुभाषी सांख्यिकीय और तंत्रिका मशीन अनुवाद सेवा है, जो एक भाषा से दूसरी भाषा में पाठ और वेबसाइटों का अनुवाद करने के लिए है।\n"
     ]
    },
    {
     "data": {
      "text/plain": [
       "array(['Hindi'], dtype='<U10')"
      ]
     },
     "execution_count": 25,
     "metadata": {},
     "output_type": "execute_result"
    }
   ],
   "source": [
    "s=[input(\"Enter minmum 20 words in any language:\")]\n",
    "ss=aa[0].transform(s)\n",
    "aa[1].predict(ss)"
   ]
  },
  {
   "cell_type": "code",
   "execution_count": null,
   "metadata": {},
   "outputs": [],
   "source": []
  }
 ],
 "metadata": {
  "kernelspec": {
   "display_name": "Python 3",
   "language": "python",
   "name": "python3"
  },
  "language_info": {
   "codemirror_mode": {
    "name": "ipython",
    "version": 3
   },
   "file_extension": ".py",
   "mimetype": "text/x-python",
   "name": "python",
   "nbconvert_exporter": "python",
   "pygments_lexer": "ipython3",
   "version": "3.7.4"
  }
 },
 "nbformat": 4,
 "nbformat_minor": 2
}
